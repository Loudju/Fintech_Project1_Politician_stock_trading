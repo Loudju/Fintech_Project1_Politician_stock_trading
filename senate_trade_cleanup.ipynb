{
 "cells": [
  {
   "cell_type": "code",
   "execution_count": 9,
   "id": "c8762aad-c1f6-48ef-b8c3-02d6a18334db",
   "metadata": {},
   "outputs": [],
   "source": [
    "import requests\n",
    "import json\n",
    "import pandas as pd\n",
    "import quiverquant"
   ]
  },
  {
   "cell_type": "code",
   "execution_count": 14,
   "id": "20bbfb43-5f99-4edd-9863-d8d050184db3",
   "metadata": {},
   "outputs": [],
   "source": [
    "quiver = quiverquant.quiver(\"c28eacfdf71675aa0dcad7feaa75eedfff51c547\")"
   ]
  },
  {
   "cell_type": "code",
   "execution_count": 15,
   "id": "8eb22b3b-e016-4d30-b4f5-f7bc3d5bff1b",
   "metadata": {},
   "outputs": [
    {
     "ename": "AttributeError",
     "evalue": "'quiver' object has no attribute 'congresstrading'",
     "output_type": "error",
     "traceback": [
      "\u001b[0;31m---------------------------------------------------------------------------\u001b[0m",
      "\u001b[0;31mAttributeError\u001b[0m                            Traceback (most recent call last)",
      "Input \u001b[0;32mIn [15]\u001b[0m, in \u001b[0;36m<cell line: 1>\u001b[0;34m()\u001b[0m\n\u001b[0;32m----> 1\u001b[0m Senate_df \u001b[38;5;241m=\u001b[39m \u001b[43mquiver\u001b[49m\u001b[38;5;241;43m.\u001b[39;49m\u001b[43mcongresstrading\u001b[49m()\n",
      "\u001b[0;31mAttributeError\u001b[0m: 'quiver' object has no attribute 'congresstrading'"
     ]
    }
   ],
   "source": [
    "Senate_df = quiver.congresstrading()"
   ]
  },
  {
   "cell_type": "code",
   "execution_count": null,
   "id": "d0826c5a-5327-450b-8c20-e9ef4400396d",
   "metadata": {},
   "outputs": [],
   "source": []
  }
 ],
 "metadata": {
  "kernelspec": {
   "display_name": "Python 3 (ipykernel)",
   "language": "python",
   "name": "python3"
  },
  "language_info": {
   "codemirror_mode": {
    "name": "ipython",
    "version": 3
   },
   "file_extension": ".py",
   "mimetype": "text/x-python",
   "name": "python",
   "nbconvert_exporter": "python",
   "pygments_lexer": "ipython3",
   "version": "3.9.12"
  }
 },
 "nbformat": 4,
 "nbformat_minor": 5
}
